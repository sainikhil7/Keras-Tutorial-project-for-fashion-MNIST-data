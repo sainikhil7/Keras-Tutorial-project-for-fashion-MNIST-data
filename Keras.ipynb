{
 "cells": [
  {
   "cell_type": "markdown",
   "metadata": {},
   "source": [
    "<h2> Keras Tutorial Project(Team 15) : Harsha Sai Teja Gannamani, Venkata Sai Nikhil Meda, Yashwanth Bandala"
   ]
  },
  {
   "cell_type": "code",
   "execution_count": 201,
   "metadata": {},
   "outputs": [],
   "source": [
    "import keras\n",
    "from keras.models import Sequential\n",
    "from keras.layers import Dense, Activation, Dropout, Flatten\n",
    "from keras.utils import np_utils\n",
    "from keras.layers import Convolution2D, MaxPooling2D, Dropout\n",
    "import numpy as np\n",
    "from numpy import loadtxt\n",
    "import matplotlib.pyplot as plt\n",
    "import tensorflow as tf\n",
    "from sklearn.neighbors import KNeighborsClassifier\n",
    "import pandas as pd\n",
    "from sklearn.decomposition import PCA\n",
    "import time\n",
    "from sklearn.metrics import confusion_matrix\n",
    "from sklearn.metrics import accuracy_score\n",
    "import seaborn as sns\n",
    "from sklearn.naive_bayes import GaussianNB\n",
    "from scipy.stats import multivariate_normal as mvn\n",
    "import warnings\n",
    "from keras.optimizers import SGD\n",
    "warnings.filterwarnings('ignore')\n"
   ]
  },
  {
   "cell_type": "markdown",
   "metadata": {},
   "source": [
    "<h2>Question 1<h2>"
   ]
  },
  {
   "cell_type": "markdown",
   "metadata": {},
   "source": [
    " 1) Loading data\n",
    "Choose a data set that fits a regression or classification problem. Describe those data and show how to load those data so that they can be used in keras. Show how to create cross-validation folds, etc., so that you can test your algorithm properly."
   ]
  },
  {
   "cell_type": "markdown",
   "metadata": {},
   "source": [
    "We have choosen Fashion_MNIST dataset which fits for the classification problem."
   ]
  },
  {
   "cell_type": "markdown",
   "metadata": {},
   "source": [
    "<h5>Importing the Fashion_MNIST Data Set</h5>"
   ]
  },
  {
   "cell_type": "markdown",
   "metadata": {},
   "source": [
    "Fashion_MNIST Data set contains 70,000 grey scale images of 10 categories clothing as (28x28) pixel images. Here we use 60000 images as Training Data and rest 10000 as Testing Data. This Data Set is available in Keras. So, we can use it from the Keras."
   ]
  },
  {
   "cell_type": "code",
   "execution_count": 202,
   "metadata": {},
   "outputs": [],
   "source": [
    "from keras.datasets import fashion_mnist\n",
    "(x_train, y_train), (x_test, y_test) = fashion_mnist.load_data()"
   ]
  },
  {
   "cell_type": "markdown",
   "metadata": {},
   "source": [
    "<h5>Exploring the Data Set<h5>"
   ]
  },
  {
   "cell_type": "markdown",
   "metadata": {},
   "source": [
    "plotting the images of the 10 different categorical variables"
   ]
  },
  {
   "cell_type": "code",
   "execution_count": 203,
   "metadata": {},
   "outputs": [
    {
     "data": {
      "text/html": [
       "<div>\n",
       "<style scoped>\n",
       "    .dataframe tbody tr th:only-of-type {\n",
       "        vertical-align: middle;\n",
       "    }\n",
       "\n",
       "    .dataframe tbody tr th {\n",
       "        vertical-align: top;\n",
       "    }\n",
       "\n",
       "    .dataframe thead th {\n",
       "        text-align: right;\n",
       "    }\n",
       "</style>\n",
       "<table border=\"1\" class=\"dataframe\">\n",
       "  <thead>\n",
       "    <tr style=\"text-align: right;\">\n",
       "      <th></th>\n",
       "      <th>Different Categorical Variables</th>\n",
       "    </tr>\n",
       "  </thead>\n",
       "  <tbody>\n",
       "    <tr>\n",
       "      <td>0</td>\n",
       "      <td>T-shirt/top</td>\n",
       "    </tr>\n",
       "    <tr>\n",
       "      <td>1</td>\n",
       "      <td>Trouser</td>\n",
       "    </tr>\n",
       "    <tr>\n",
       "      <td>2</td>\n",
       "      <td>Pullover</td>\n",
       "    </tr>\n",
       "    <tr>\n",
       "      <td>3</td>\n",
       "      <td>Dress</td>\n",
       "    </tr>\n",
       "    <tr>\n",
       "      <td>4</td>\n",
       "      <td>Coat</td>\n",
       "    </tr>\n",
       "    <tr>\n",
       "      <td>5</td>\n",
       "      <td>Sandal</td>\n",
       "    </tr>\n",
       "    <tr>\n",
       "      <td>6</td>\n",
       "      <td>Shirt</td>\n",
       "    </tr>\n",
       "    <tr>\n",
       "      <td>7</td>\n",
       "      <td>Sneaker</td>\n",
       "    </tr>\n",
       "    <tr>\n",
       "      <td>8</td>\n",
       "      <td>Bag</td>\n",
       "    </tr>\n",
       "    <tr>\n",
       "      <td>9</td>\n",
       "      <td>Ankle boot</td>\n",
       "    </tr>\n",
       "  </tbody>\n",
       "</table>\n",
       "</div>"
      ],
      "text/plain": [
       "  Different Categorical Variables\n",
       "0                     T-shirt/top\n",
       "1                         Trouser\n",
       "2                        Pullover\n",
       "3                           Dress\n",
       "4                            Coat\n",
       "5                          Sandal\n",
       "6                           Shirt\n",
       "7                         Sneaker\n",
       "8                             Bag\n",
       "9                      Ankle boot"
      ]
     },
     "execution_count": 203,
     "metadata": {},
     "output_type": "execute_result"
    }
   ],
   "source": [
    "seri=pd.Series(y_train)\n",
    "k=[]\n",
    "for i in range(10):\n",
    "    k.append(seri[seri == i].index[0])\n",
    "Labels=['T-shirt/top','Trouser','Pullover','Dress','Coat','Sandal','Shirt','Sneaker','Bag','Ankle boot']\n",
    "df=pd.DataFrame(Labels,columns=['Different Categorical Variables'])\n",
    "df\n",
    "   \n",
    "    "
   ]
  },
  {
   "cell_type": "code",
   "execution_count": 204,
   "metadata": {},
   "outputs": [
    {
     "data": {
      "image/png": "[encoded data removed]",
      "text/plain": [
       "<Figure size 648x648 with 10 Axes>"
      ]
     },
     "metadata": {
      "needs_background": "light"
     },
     "output_type": "display_data"
    }
   ],
   "source": [
    "plt.figure(figsize=(9,9))\n",
    "j=0\n",
    "for i in k:\n",
    "    plt.subplot(3,4, j+1)\n",
    "    plt.imshow(x_train[i]) \n",
    "    #plt.colorbar()\n",
    "    plt.grid(False)\n",
    "    plt.xlabel(Labels[j])\n",
    "    j=j+1\n",
    "plt.show() "
   ]
  },
  {
   "cell_type": "markdown",
   "metadata": {},
   "source": [
    "<h5>Preprocessing the Data<h5>"
   ]
  },
  {
   "cell_type": "code",
   "execution_count": 205,
   "metadata": {
    "scrolled": true
   },
   "outputs": [
    {
     "data": {
      "image/png": "[encoded data removed]",
      "text/plain": [
       "<Figure size 432x288 with 2 Axes>"
      ]
     },
     "metadata": {
      "needs_background": "light"
     },
     "output_type": "display_data"
    }
   ],
   "source": [
    "plt.figure()\n",
    "plt.imshow(x_train[1])\n",
    "plt.colorbar()\n",
    "plt.grid(False)\n",
    "plt.show()"
   ]
  },
  {
   "cell_type": "markdown",
   "metadata": {},
   "source": [
    "From the above figure we can see that the pixel values are ranging from 0 to 255, Inorder to pass them to the neural network we need to scalae them down to range 0 to 1, So we are dividing the training data and testing data with 255."
   ]
  },
  {
   "cell_type": "code",
   "execution_count": 206,
   "metadata": {},
   "outputs": [],
   "source": [
    "X_train = x_train.astype('float32')\n",
    "X_test = x_test.astype('float32')\n",
    "X_train /= 255\n",
    "X_test /= 255"
   ]
  },
  {
   "cell_type": "markdown",
   "metadata": {},
   "source": [
    "we should have 10 different classes, one for each digit, but we have only have an 1-dimensional array. so we need to Convert 1-dimensional class arrays to 10-dimensional class matrices before passing them to the model"
   ]
  },
  {
   "cell_type": "code",
   "execution_count": 207,
   "metadata": {},
   "outputs": [],
   "source": [
    "#preprocessing Training and testing labels\n",
    "Y_train = np_utils.to_categorical(y_train, 10)\n",
    "Y_test = np_utils.to_categorical(y_test, 10)"
   ]
  },
  {
   "cell_type": "markdown",
   "metadata": {},
   "source": [
    "<h5>Flatenning our data of(28x28) 2D array into 1D array of 784 pixels to send it through the model<h5>"
   ]
  },
  {
   "cell_type": "code",
   "execution_count": 208,
   "metadata": {},
   "outputs": [],
   "source": [
    "nsamples, nx, ny = X_train.shape\n",
    "Xtrain = X_train.reshape((nsamples,nx*ny))\n",
    "nsamples1, nx1, ny1 = X_test.shape\n",
    "Xtest= X_test.reshape((nsamples1,nx1*ny1))"
   ]
  },
  {
   "cell_type": "markdown",
   "metadata": {},
   "source": [
    "<h5>Cross validation</h5>"
   ]
  },
  {
   "cell_type": "markdown",
   "metadata": {},
   "source": [
    "Cross-validation is a technique in which we train our model using the subset of the data-set and then evaluate using the complementary subset of the data-set.There are Different types of cross validation in machine learning among them the popular ones are k-fold cross validation,leaveoneout cross validation and Holdout method cross validation\n",
    "<li> We are using k-fold cross validation in this project because of it's reduced bias and reduced computational time when compared to other cross validations.\n",
    "<li> In this k-fold cross validation we divide the entire data set into k-folds and then train our model using k-1 folds and then we test our model on the kth fold.   "
   ]
  },
  {
   "cell_type": "code",
   "execution_count": 209,
   "metadata": {},
   "outputs": [
    {
     "data": {
      "text/html": [
       "<img src=\"Capture1.jpeg\",width=500,height=100>\n"
      ],
      "text/plain": [
       "<IPython.core.display.HTML object>"
      ]
     },
     "metadata": {},
     "output_type": "display_data"
    }
   ],
   "source": [
    "%%html\n",
    "<img src=\"Capture1.jpeg\",width=500,height=100>"
   ]
  },
  {
   "cell_type": "code",
   "execution_count": 210,
   "metadata": {},
   "outputs": [],
   "source": [
    "#K fold cross validation function function\n",
    "\"\"\"\n",
    "Here Xtrain is the flattened (1D)training data with out labels and y_train is the label data and folds are number of folds\n",
    "It retuns a list of accuracies and losses for each fold\n",
    "\"\"\"\n",
    "def Kfold(Xtrain,y_train,folds,opt):\n",
    "    accuracy=[]\n",
    "    accuracy1=[]\n",
    "    loss1=[]\n",
    "    frame=[]\n",
    "    ren=Xtrain\n",
    "    dfre=pd.DataFrame(ren)#converting our (1D) numpy array into data frame\n",
    "    dfre['op']=y_train # adding our labels into the data frame\n",
    "    df = dfre.sample(frac=1) \n",
    "    \"\"\"\n",
    "    rearranging the rows in our data frame such that when we split the dataframe in to k folds \n",
    "    we have all the class labels distributed equally among all folds\n",
    "    \n",
    "    \"\"\"\n",
    "    df_split = np.array_split(df, folds)#Splitting our data frame into k folds\n",
    "    for i in range(len(df_split)):\n",
    "        frame.append(df_split[i])#Adding all our splitted k fold data frames into a list\n",
    "    for i in range(folds):\n",
    "        fram=[]\n",
    "        fram=frame.copy()\n",
    "        fram.pop(i)\n",
    "        \"\"\"\n",
    "        here in fram list we have all the data frames appended.so for example when i value is 1 we are popping the \n",
    "        ith(i.e 1st) positioned data frame from the list and the concatenate all the other dataframes in the list. Here\n",
    "        the ith(ie 1st) positoned data frame is the (k)testing fold and the rest of the data frames contains (k-1)folds\n",
    "        training data.\n",
    "        \"\"\"\n",
    "        print(\"For Fold {0}\".format(i))\n",
    "        print('-------------------------------')\n",
    "        train = pd.concat(fram)\n",
    "        test = frame[i]\n",
    "        trainY=train.iloc[:,-1]# removing the training data labels from the training data(dataframe) and setting them as training labels\n",
    "        testY=test.iloc[:,-1]# removing the testing data labels from the training data(dataframe) and setting them as training labels\n",
    "        trainX=train.iloc[:, :-1]#removing labels from the training data\n",
    "        testX=test.iloc[:, :-1]# removing labels from the testing data\n",
    "        X_train = trainX.astype('float32')\n",
    "        X_test = testX.astype('float32')\n",
    "        \"\"\"\n",
    "        Here we are converting the labels of training and testing data set into a  binary matrix representation.\n",
    "        The classes axis is placed last. As the number of different class labels are 10 we are passing the value of 10\n",
    "        \"\"\"\n",
    "        Y_train = np_utils.to_categorical(trainY, 10)\n",
    "        Y_test = np_utils.to_categorical(testY, 10)\n",
    "        \"\"\"\n",
    "        Then we will pass our training and testing data. In model we will define dense layers of perceptrons and then fit\n",
    "        our training data to the model and the predict accuracy and loss on the testing data.\n",
    "        \"\"\"\n",
    "        accuracy,loss,pred=modeln(X_train,Y_train,X_test,Y_test,opt)\n",
    "        print('-------------------------------')\n",
    "        print(\"Accuracy for the Fold {0} is {1}\".format(i,accuracy))\n",
    "        print(\"Loss for the Fold {0} is {1}\".format(i,loss))\n",
    "        print('-------------------------------')\n",
    "        accuracy1.append(accuracy)\n",
    "        loss1.append(loss)\n",
    "    return accuracy1,loss1    "
   ]
  },
  {
   "cell_type": "markdown",
   "metadata": {},
   "source": [
    "<h2>Question 2<h2>"
   ]
  },
  {
   "cell_type": "markdown",
   "metadata": {},
   "source": [
    "2) Creating a keras model (a simple network)\n",
    "Develop a keras model that can perform the classification or regression for the data set you chose. I recommend using simple Dense layers so that it trains quickly. Describe this model and show an illustration (figure) of it in your notebook."
   ]
  },
  {
   "cell_type": "markdown",
   "metadata": {},
   "source": [
    "<h5>Importing all the required libraries from the keras</h5>"
   ]
  },
  {
   "cell_type": "code",
   "execution_count": 211,
   "metadata": {},
   "outputs": [],
   "source": [
    "from keras.models import Sequential\n",
    "from keras.layers import Dense, Activation, Dropout, Flatten\n",
    "from keras.utils import np_utils"
   ]
  },
  {
   "cell_type": "markdown",
   "metadata": {},
   "source": [
    "<h5> model = sequential() </h5>\n",
    "Models in Keras are defined as a sequence of layers. The Sequential model is a linear stack of layers. Sequential specifies to keras that we are creating model sequentially and the output of each layer we add is input to the next layer we specify. It is limited in that it does not allow you to create models that share layers or have multiple inputs or outputs. the layers can be defined and passed to the Sequential as an array. The Sequential model API is great for developing deep learning models in most situations. In Keras, we assemble layers to build models. A model is (usually) a graph of layers. The most common type of model is a stack of layers that is Sequential model.\n",
    "\n",
    "\n",
    "<h5> model.add(Dense(250, input_shape=(784,), activation='relu')) </h5>\n",
    "For Dense layers, the first parameter is the output size of the layer. Keras automatically handles the connections between layers. model.add is used to add a layer to our neural network. We need to specify as an argument what type of layer we want. The Dense is used to specify the fully connected layer. For this layer we have the input of 784 pixels(1D array).This layer contains 250 units (perceptrons). We are using the RELU activation function in this layer   \n",
    "\n",
    "<h5> model.add(Dense(100, activation='relu')) </h5>\n",
    "For Dense layers, the first parameter is the output size of the layer. Keras automatically handles the connections between layers. model.add is used to add a layer to our neural network. We need to specify as an argument what type of layer we want. The Dense is used to specify the fully connected layer.  For this layer we have the 250 inputs from the 250 units of the previous layer.This layer contains 250 units (perceptrons). We are using the RELU activation function in this layer\n",
    "<h5> model.add(Dense(10, activation='softmax')) </h5>\n",
    "The final layer has an output size of 10, corresponding to the 10 classes of digits. In our dataset, output is of 10 values. The output layer uses softmax activation function.For this layer we have the 100 inputs from the 100 units of the previous layer."
   ]
  },
  {
   "cell_type": "code",
   "execution_count": 212,
   "metadata": {},
   "outputs": [],
   "source": [
    "def ourmodel():\n",
    "    model = Sequential()\n",
    "    model.add(Dense(250, input_shape=(784,), activation='relu'))\n",
    "    model.add(Dense(100, activation=\"relu\"))\n",
    "    model.add(Dense(10, activation='softmax'))\n",
    "    return model"
   ]
  },
  {
   "cell_type": "markdown",
   "metadata": {},
   "source": [
    "<h5>Activation Function<h5>"
   ]
  },
  {
   "cell_type": "markdown",
   "metadata": {},
   "source": [
    "If a neuron doesnot have an Activation function then it's output is just the linear transformation of inputs and weights.Then the network is acts a linear regression model which can only predict the linear relationship between the variables. So we use the activation function to introduce the non-linearity in the network. Some of the popular Activation functions used for classification problems are\n",
    "<li>Logistic\n",
    "<li>tanh(hyperbolic Tangent)\n",
    "<li>Relu(Rectified Linear Unit)\n",
    "<li>Leaky Relu\n",
    "<li>Softmax    "
   ]
  },
  {
   "cell_type": "markdown",
   "metadata": {},
   "source": [
    "<h6>Why Relu?</h6>"
   ]
  },
  {
   "cell_type": "markdown",
   "metadata": {},
   "source": [
    "Relu(Rectified Linear Unit) is the most commonly used function because of it's simplicity and less computational time. Relu should always be used in the hidden layers because,they can have very large outputs so they might be expected to be far more likely to explode than units that have bounded values. Relu is treated as the standard activation function in the CNN(Convolutional Neural Network)."
   ]
  },
  {
   "cell_type": "markdown",
   "metadata": {},
   "source": [
    "For classification problem,we can use Sigmoid functions(Logistic, tanh, Softmax). But at this time we prefer using Relu because, sigmoid functions which are non-linear functions may suffer from vanishing gradient problem.A problem with training networks with many layers is that the gradient diminishes dramatically as it is propagated backward through the network. The error may be so small by the time it reaches layers close to the input of the model that it may have very little effect. As such, this problem is referred to as the “vanishing gradients” problem."
   ]
  },
  {
   "cell_type": "markdown",
   "metadata": {},
   "source": [
    "<b>Function of Relu:</b> y=max(0,x)\n",
    "<li> Here X is the input,If the value of x is positive then the function returns x.\n",
    "<li> If the input value is negative or equal to zero then the function returns 0.  "
   ]
  },
  {
   "cell_type": "code",
   "execution_count": 213,
   "metadata": {},
   "outputs": [
    {
     "data": {
      "image/png": "[encoded data removed]",
      "text/plain": [
       "<Figure size 432x288 with 1 Axes>"
      ]
     },
     "metadata": {
      "needs_background": "light"
     },
     "output_type": "display_data"
    }
   ],
   "source": [
    "x=[-5,-4,-3,-2,-1,0,1,2,3,4,5]\n",
    "y=[]\n",
    "for i in x:\n",
    "    y.append(max(0,i))\n",
    "plt.plot(x, y, '-')\n",
    "plt.title('Relu Function')\n",
    "plt.xlabel('input')\n",
    "plt.ylabel('output')\n",
    "plt.show()    "
   ]
  },
  {
   "cell_type": "markdown",
   "metadata": {},
   "source": [
    "<h5>why to use the soft max activation function in the last neural network</h5>"
   ]
  },
  {
   "cell_type": "markdown",
   "metadata": {},
   "source": [
    "In a classification problem, the output will be the probability distribution containing different classes probability values. If we are considering a binary classification problem then we can use the logistic activation function, since we are considering the Multi-class classification problem logistic activation doesnot work well so we use softmax for multiclass classification problems. For example if we consider one of the output value to be negative then when we we calculate the probability of a class we will get the negative value, which is not acceptable. But in softmax even if the output value of a class is negative it returns positive value as e^x will always return positive values"
   ]
  },
  {
   "cell_type": "markdown",
   "metadata": {},
   "source": [
    "<b>Function of softmax</b>"
   ]
  },
  {
   "cell_type": "code",
   "execution_count": 214,
   "metadata": {},
   "outputs": [
    {
     "data": {
      "text/html": [
       "<img src=\"softmax.jpg\",width=500,height=100>\n"
      ],
      "text/plain": [
       "<IPython.core.display.HTML object>"
      ]
     },
     "metadata": {},
     "output_type": "display_data"
    }
   ],
   "source": [
    "%%html\n",
    "<img src=\"softmax.jpg\",width=500,height=100>"
   ]
  },
  {
   "cell_type": "markdown",
   "metadata": {},
   "source": [
    "<h5> model.summary() </h5>\n",
    "model.summary() prints a summary representation of the model. For layers with multiple outputs, multiple is displayed instead of each individual output shape due to size limitations"
   ]
  },
  {
   "cell_type": "code",
   "execution_count": 215,
   "metadata": {},
   "outputs": [
    {
     "name": "stdout",
     "output_type": "stream",
     "text": [
      "Model: \"sequential_80\"\n",
      "_________________________________________________________________\n",
      "Layer (type)                 Output Shape              Param #   \n",
      "=================================================================\n",
      "dense_238 (Dense)            (None, 250)               196250    \n",
      "_________________________________________________________________\n",
      "dense_239 (Dense)            (None, 100)               25100     \n",
      "_________________________________________________________________\n",
      "dense_240 (Dense)            (None, 10)                1010      \n",
      "=================================================================\n",
      "Total params: 222,360\n",
      "Trainable params: 222,360\n",
      "Non-trainable params: 0\n",
      "_________________________________________________________________\n"
     ]
    }
   ],
   "source": [
    "model=ourmodel()\n",
    "model.summary()"
   ]
  },
  {
   "cell_type": "markdown",
   "metadata": {},
   "source": [
    "Our model summary states that we have 3 dense layers having 250 units in the first layer, 100 in the second layer and 10 units in the last layers.\n",
    "<br><b>Hidden layer1</b>\n",
    "<li> number of paramenters in the 1st layer are (250x785), here 785 are the input pixels +bias and 250 are the units present in the layer.\n",
    "<br><b>Hidden layer2</b>\n",
    "<li> number of paramenters in the 2nd layer are (100x251), here 251 are the number of outputs from the previous layer (i.e 250) + bias and 100 are the number of units in the layer.\n",
    "<br><b>Output layer</b>\n",
    "<li> number of paramenters in the output layer are (10x101), here 101 are the number of outputs from the previous layer (i.e 100) + bias and 10 are the number of units in the layer      \n",
    "Total number of parameters in our neural network is 222,360 among them all are trainable parameters.    "
   ]
  },
  {
   "cell_type": "markdown",
   "metadata": {},
   "source": [
    "<h5>Our Model Architecture</h5>"
   ]
  },
  {
   "cell_type": "code",
   "execution_count": 216,
   "metadata": {},
   "outputs": [
    {
     "data": {
      "text/html": [
       "<img src=\"model.jpeg\",width=500,height=100>\n"
      ],
      "text/plain": [
       "<IPython.core.display.HTML object>"
      ]
     },
     "metadata": {},
     "output_type": "display_data"
    }
   ],
   "source": [
    "%%html\n",
    "<img src=\"model.jpeg\",width=500,height=100>"
   ]
  },
  {
   "cell_type": "code",
   "execution_count": 217,
   "metadata": {},
   "outputs": [
    {
     "data": {
      "text/html": [
       "<img src=\"model flow.jpeg\",width=500,height=100>\n"
      ],
      "text/plain": [
       "<IPython.core.display.HTML object>"
      ]
     },
     "metadata": {},
     "output_type": "display_data"
    }
   ],
   "source": [
    "%%html\n",
    "<img src=\"model flow.jpeg\",width=500,height=100>"
   ]
  },
  {
   "cell_type": "markdown",
   "metadata": {},
   "source": [
    "Our Model architecture contains 2 hidden layers and an output layer:\n",
    "<li> 1st hidden layer has 250 units(perceptrons) and uses RELU activation function\n",
    "<li> 2nd hidden layer has 100 units(perceptrons) and uses RELU activation function\n",
    "<li> output layer has 10 units(perceptrons) and uses Softmax activation function       "
   ]
  },
  {
   "cell_type": "markdown",
   "metadata": {},
   "source": [
    "<h2>Question 3</h2>"
   ]
  },
  {
   "cell_type": "markdown",
   "metadata": {},
   "source": [
    "3) Compiling the model\n",
    "<li>Show how to compile the keras model, choosing the loss function, optimizer, etc. Describe the choices you made and why. Describe what other choices could be made here."
   ]
  },
  {
   "cell_type": "code",
   "execution_count": 218,
   "metadata": {},
   "outputs": [],
   "source": [
    "model=ourmodel()\n",
    "model.compile(loss=\"categorical_crossentropy\",optimizer=\"adam\",metrics=['accuracy'])"
   ]
  },
  {
   "cell_type": "markdown",
   "metadata": {},
   "source": [
    "In our model.compile \n",
    "<li>we used loss function of categorical_crossentropy\n",
    "<li>we used optimizer as Adam(Adaptive Moment Estimation)   "
   ]
  },
  {
   "cell_type": "code",
   "execution_count": 219,
   "metadata": {},
   "outputs": [
    {
     "data": {
      "text/plain": [
       "'\\nHere score[1] is the accuracy of the testing data and score[0] is the loss of the testing data\\npred contains the list of predicted outputs for the testing data\\n'"
      ]
     },
     "execution_count": 219,
     "metadata": {},
     "output_type": "execute_result"
    }
   ],
   "source": [
    "\"\"\"\n",
    "Function modeln takes X_train,X_test(preprocessed testing and training data) and Y_Train,Y_test(preprocessed testing and \n",
    "training data mentioned in the 1st question)\n",
    "\n",
    "This function is used in the KFOLD function defined in the 1st question\n",
    "\"\"\"\n",
    "def modeln(X_train,Y_train,X_test,Y_test,opt):\n",
    "    model = ourmodel()#model is defined in the second question\n",
    "    model.compile(loss=\"categorical_crossentropy\",optimizer=opt,metrics=['accuracy'])#compliling the model\n",
    "    model.fit(X_train, Y_train, batch_size=128,nb_epoch=10)#fitting the model\n",
    "    score = model.evaluate(X_test, Y_test)#evaluating the model\n",
    "    score1 = model.predict(Xtest)\n",
    "    pred=[]\n",
    "    for i in range(len(score1)):\n",
    "        pred.append(np.argmax(score1[i]))\n",
    "    return score[1],score[0],pred\n",
    "\"\"\"\n",
    "Here score[1] is the accuracy of the testing data and score[0] is the loss of the testing data\n",
    "pred contains the list of predicted outputs for the testing data\n",
    "\"\"\""
   ]
  },
  {
   "cell_type": "markdown",
   "metadata": {},
   "source": [
    "<h5> 5 fold cross validation using ADAM as optimizer</h5>"
   ]
  },
  {
   "cell_type": "code",
   "execution_count": 220,
   "metadata": {
    "scrolled": false
   },
   "outputs": [
    {
     "name": "stdout",
     "output_type": "stream",
     "text": [
      "For Fold 0\n",
      "-------------------------------\n",
      "Epoch 1/10\n",
      "48000/48000 [==============================] - 13s 263us/step - loss: 0.5442 - accuracy: 0.8102\n",
      "Epoch 2/10\n",
      "48000/48000 [==============================] - 6s 120us/step - loss: 0.3883 - accuracy: 0.8613\n",
      "Epoch 3/10\n",
      "48000/48000 [==============================] - 6s 124us/step - loss: 0.3459 - accuracy: 0.8744\n",
      "Epoch 4/10\n",
      "48000/48000 [==============================] - 6s 132us/step - loss: 0.3141 - accuracy: 0.8839\n",
      "Epoch 5/10\n",
      "48000/48000 [==============================] - 6s 128us/step - loss: 0.2983 - accuracy: 0.88972s - loss: - ETA: 2s - l\n",
      "Epoch 6/10\n",
      "48000/48000 [==============================] - 6s 132us/step - loss: 0.2829 - accuracy: 0.8947\n",
      "Epoch 7/10\n",
      "48000/48000 [==============================] - 6s 131us/step - loss: 0.2725 - accuracy: 0.8989\n",
      "Epoch 8/10\n",
      "48000/48000 [==============================] - 6s 124us/step - loss: 0.2574 - accuracy: 0.9025\n",
      "Epoch 9/10\n",
      "48000/48000 [==============================] - 7s 140us/step - loss: 0.2460 - accuracy: 0.9087\n",
      "Epoch 10/10\n",
      "48000/48000 [==============================] - 6s 126us/step - loss: 0.2377 - accuracy: 0.9110\n",
      "12000/12000 [==============================] - 3s 224us/step\n",
      "-------------------------------\n",
      "Accuracy for the Fold 0 is 0.887333333492279\n",
      "Loss for the Fold 0 is 0.3257365407049656\n",
      "-------------------------------\n",
      "For Fold 1\n",
      "-------------------------------\n",
      "Epoch 1/10\n",
      "48000/48000 [==============================] - 7s 156us/step - loss: 0.5293 - accuracy: 0.8138\n",
      "Epoch 2/10\n",
      "48000/48000 [==============================] - 6s 130us/step - loss: 0.3841 - accuracy: 0.8620\n",
      "Epoch 3/10\n",
      "48000/48000 [==============================] - 6s 124us/step - loss: 0.3405 - accuracy: 0.8758\n",
      "Epoch 4/10\n",
      "48000/48000 [==============================] - 6s 131us/step - loss: 0.3139 - accuracy: 0.8841\n",
      "Epoch 5/10\n",
      "48000/48000 [==============================] - 6s 126us/step - loss: 0.2920 - accuracy: 0.8931\n",
      "Epoch 6/10\n",
      "48000/48000 [==============================] - 7s 136us/step - loss: 0.2768 - accuracy: 0.8979\n",
      "Epoch 7/10\n",
      "48000/48000 [==============================] - 6s 135us/step - loss: 0.2624 - accuracy: 0.9020\n",
      "Epoch 8/10\n",
      "48000/48000 [==============================] - 6s 129us/step - loss: 0.2514 - accuracy: 0.9063\n",
      "Epoch 9/10\n",
      "48000/48000 [==============================] - 7s 137us/step - loss: 0.2408 - accuracy: 0.9101\n",
      "Epoch 10/10\n",
      "48000/48000 [==============================] - 6s 132us/step - loss: 0.2326 - accuracy: 0.9112\n",
      "12000/12000 [==============================] - 3s 221us/step\n",
      "-------------------------------\n",
      "Accuracy for the Fold 1 is 0.8797500133514404\n",
      "Loss for the Fold 1 is 0.3392549906373024\n",
      "-------------------------------\n",
      "For Fold 2\n",
      "-------------------------------\n",
      "Epoch 1/10\n",
      "48000/48000 [==============================] - 7s 144us/step - loss: 0.5389 - accuracy: 0.81240s - loss: 0.5457 - ac\n",
      "Epoch 2/10\n",
      "48000/48000 [==============================] - 7s 136us/step - loss: 0.3924 - accuracy: 0.8590\n",
      "Epoch 3/10\n",
      "48000/48000 [==============================] - 6s 130us/step - loss: 0.3458 - accuracy: 0.8742\n",
      "Epoch 4/10\n",
      "48000/48000 [==============================] - 7s 137us/step - loss: 0.3159 - accuracy: 0.8842\n",
      "Epoch 5/10\n",
      "48000/48000 [==============================] - 7s 136us/step - loss: 0.2983 - accuracy: 0.8893\n",
      "Epoch 6/10\n",
      "48000/48000 [==============================] - 6s 131us/step - loss: 0.2845 - accuracy: 0.89380s - loss: 0.2834 - accura\n",
      "Epoch 7/10\n",
      "48000/48000 [==============================] - 7s 139us/step - loss: 0.2710 - accuracy: 0.89920s - loss: 0.2706 - ac\n",
      "Epoch 8/10\n",
      "48000/48000 [==============================] - 6s 131us/step - loss: 0.2588 - accuracy: 0.9024\n",
      "Epoch 9/10\n",
      "48000/48000 [==============================] - 6s 130us/step - loss: 0.2453 - accuracy: 0.9079\n",
      "Epoch 10/10\n",
      "48000/48000 [==============================] - 7s 140us/step - loss: 0.2391 - accuracy: 0.9092\n",
      "12000/12000 [==============================] - 3s 220us/step\n",
      "-------------------------------\n",
      "Accuracy for the Fold 2 is 0.8974999785423279\n",
      "Loss for the Fold 2 is 0.2843681688408057\n",
      "-------------------------------\n",
      "For Fold 3\n",
      "-------------------------------\n",
      "Epoch 1/10\n",
      "48000/48000 [==============================] - 8s 160us/step - loss: 0.5399 - accuracy: 0.8133\n",
      "Epoch 2/10\n",
      "48000/48000 [==============================] - 7s 136us/step - loss: 0.3867 - accuracy: 0.8615\n",
      "Epoch 3/10\n",
      "48000/48000 [==============================] - 7s 137us/step - loss: 0.3414 - accuracy: 0.87690s - loss: 0.3\n",
      "Epoch 4/10\n",
      "48000/48000 [==============================] - 6s 134us/step - loss: 0.3152 - accuracy: 0.8855\n",
      "Epoch 5/10\n",
      "48000/48000 [==============================] - 7s 143us/step - loss: 0.2939 - accuracy: 0.8920\n",
      "Epoch 6/10\n",
      "48000/48000 [==============================] - 6s 133us/step - loss: 0.2771 - accuracy: 0.8969\n",
      "Epoch 7/10\n",
      "48000/48000 [==============================] - 7s 138us/step - loss: 0.2661 - accuracy: 0.90160s - loss: 0.2662 - \n",
      "Epoch 8/10\n",
      "48000/48000 [==============================] - ETA: 0s - loss: 0.2583 - accuracy: 0.90 - 6s 131us/step - loss: 0.2582 - accuracy: 0.9035\n",
      "Epoch 9/10\n",
      "48000/48000 [==============================] - 6s 132us/step - loss: 0.2434 - accuracy: 0.9098\n",
      "Epoch 10/10\n",
      "48000/48000 [==============================] - 7s 147us/step - loss: 0.2323 - accuracy: 0.91370s - loss: 0.2325 - accuracy: \n",
      "12000/12000 [==============================] - 3s 220us/step\n",
      "-------------------------------\n",
      "Accuracy for the Fold 3 is 0.8896666765213013\n",
      "Loss for the Fold 3 is 0.3134968989392122\n",
      "-------------------------------\n",
      "For Fold 4\n",
      "-------------------------------\n",
      "Epoch 1/10\n",
      "48000/48000 [==============================] - 7s 153us/step - loss: 0.5420 - accuracy: 0.8097\n",
      "Epoch 2/10\n",
      "48000/48000 [==============================] - 7s 135us/step - loss: 0.3881 - accuracy: 0.8621\n",
      "Epoch 3/10\n",
      "48000/48000 [==============================] - 7s 142us/step - loss: 0.3478 - accuracy: 0.8742\n",
      "Epoch 4/10\n",
      "48000/48000 [==============================] - 6s 135us/step - loss: 0.3170 - accuracy: 0.8830\n",
      "Epoch 5/10\n",
      "48000/48000 [==============================] - 7s 142us/step - loss: 0.3002 - accuracy: 0.88950s - loss: 0.3005 - ac\n",
      "Epoch 6/10\n",
      "48000/48000 [==============================] - 7s 136us/step - loss: 0.2841 - accuracy: 0.8953\n",
      "Epoch 7/10\n",
      "48000/48000 [==============================] - 7s 148us/step - loss: 0.2719 - accuracy: 0.9003\n",
      "Epoch 8/10\n",
      "48000/48000 [==============================] - 7s 139us/step - loss: 0.2574 - accuracy: 0.9035\n",
      "Epoch 9/10\n",
      "48000/48000 [==============================] - 6s 134us/step - loss: 0.2466 - accuracy: 0.9069\n",
      "Epoch 10/10\n",
      "48000/48000 [==============================] - 7s 147us/step - loss: 0.2380 - accuracy: 0.9116\n",
      "12000/12000 [==============================] - 3s 273us/step\n",
      "-------------------------------\n",
      "Accuracy for the Fold 4 is 0.887666642665863\n",
      "Loss for the Fold 4 is 0.31260388469696043\n",
      "-------------------------------\n"
     ]
    },
    {
     "data": {
      "text/plain": [
       "'\\nHere Xtrain is the preprocessed training data\\ny_train is not preprocessed data as we will be performing preprocessing for the y_train data before evaluating the model in the\\nkfold function in the first function.\\n5 is number of folds for cross validation\\n\"ADAM\"(Adaptive Moment estimation) is the optimizer used for the model\\n'"
      ]
     },
     "execution_count": 220,
     "metadata": {},
     "output_type": "execute_result"
    }
   ],
   "source": [
    "(l,p)=Kfold(Xtrain,y_train,5,\"ADAM\")\n",
    "\"\"\"\n",
    "Here Xtrain is the preprocessed training data\n",
    "y_train is not preprocessed data as we will be performing preprocessing for the y_train data before evaluating the model in the\n",
    "kfold function in the first function.\n",
    "5 is number of folds for cross validation\n",
    "\"ADAM\"(Adaptive Moment estimation) is the optimizer used for the model\n",
    "\"\"\""
   ]
  },
  {
   "cell_type": "code",
   "execution_count": 221,
   "metadata": {},
   "outputs": [
    {
     "name": "stdout",
     "output_type": "stream",
     "text": [
      "FOR ADAM Optimizer\n"
     ]
    },
    {
     "data": {
      "text/html": [
       "<div>\n",
       "<style scoped>\n",
       "    .dataframe tbody tr th:only-of-type {\n",
       "        vertical-align: middle;\n",
       "    }\n",
       "\n",
       "    .dataframe tbody tr th {\n",
       "        vertical-align: top;\n",
       "    }\n",
       "\n",
       "    .dataframe thead th {\n",
       "        text-align: right;\n",
       "    }\n",
       "</style>\n",
       "<table border=\"1\" class=\"dataframe\">\n",
       "  <thead>\n",
       "    <tr style=\"text-align: right;\">\n",
       "      <th></th>\n",
       "      <th>Folds</th>\n",
       "      <th>Accuracy</th>\n",
       "      <th>loss</th>\n",
       "    </tr>\n",
       "  </thead>\n",
       "  <tbody>\n",
       "    <tr>\n",
       "      <td>0</td>\n",
       "      <td>Fold 0</td>\n",
       "      <td>0.887333</td>\n",
       "      <td>0.325737</td>\n",
       "    </tr>\n",
       "    <tr>\n",
       "      <td>1</td>\n",
       "      <td>Fold 1</td>\n",
       "      <td>0.879750</td>\n",
       "      <td>0.339255</td>\n",
       "    </tr>\n",
       "    <tr>\n",
       "      <td>2</td>\n",
       "      <td>Fold 2</td>\n",
       "      <td>0.897500</td>\n",
       "      <td>0.284368</td>\n",
       "    </tr>\n",
       "    <tr>\n",
       "      <td>3</td>\n",
       "      <td>Fold 3</td>\n",
       "      <td>0.889667</td>\n",
       "      <td>0.313497</td>\n",
       "    </tr>\n",
       "    <tr>\n",
       "      <td>4</td>\n",
       "      <td>Fold 4</td>\n",
       "      <td>0.887667</td>\n",
       "      <td>0.312604</td>\n",
       "    </tr>\n",
       "    <tr>\n",
       "      <td>5</td>\n",
       "      <td>Avg</td>\n",
       "      <td>0.888383</td>\n",
       "      <td>0.315092</td>\n",
       "    </tr>\n",
       "  </tbody>\n",
       "</table>\n",
       "</div>"
      ],
      "text/plain": [
       "    Folds  Accuracy      loss\n",
       "0  Fold 0  0.887333  0.325737\n",
       "1  Fold 1  0.879750  0.339255\n",
       "2  Fold 2  0.897500  0.284368\n",
       "3  Fold 3  0.889667  0.313497\n",
       "4  Fold 4  0.887667  0.312604\n",
       "5     Avg  0.888383  0.315092"
      ]
     },
     "execution_count": 221,
     "metadata": {},
     "output_type": "execute_result"
    }
   ],
   "source": [
    "lis1=['Fold 0','Fold 1','Fold 2','Fold 3','Fold 4','Avg']\n",
    "l.append(sum(l)/5)\n",
    "p.append(sum(p)/5)\n",
    "r=list(zip(lis1,l,p))\n",
    "print('FOR ADAM Optimizer')\n",
    "data=pd.DataFrame(r,columns=['Folds','Accuracy','loss'])\n",
    "data"
   ]
  },
  {
   "cell_type": "markdown",
   "metadata": {},
   "source": [
    "<h5> 5 fold cross validation using SGD as optimizer</h5>"
   ]
  },
  {
   "cell_type": "code",
   "execution_count": 222,
   "metadata": {
    "scrolled": false
   },
   "outputs": [
    {
     "name": "stdout",
     "output_type": "stream",
     "text": [
      "For Fold 0\n",
      "-------------------------------\n",
      "Epoch 1/10\n",
      "48000/48000 [==============================] - 5s 111us/step - loss: 1.0816 - accuracy: 0.6639\n",
      "Epoch 2/10\n",
      "48000/48000 [==============================] - 5s 97us/step - loss: 0.6730 - accuracy: 0.7801\n",
      "Epoch 3/10\n",
      "48000/48000 [==============================] - 5s 103us/step - loss: 0.5845 - accuracy: 0.8067\n",
      "Epoch 4/10\n",
      "48000/48000 [==============================] - 5s 96us/step - loss: 0.5373 - accuracy: 0.8189\n",
      "Epoch 5/10\n",
      "48000/48000 [==============================] - 5s 104us/step - loss: 0.5069 - accuracy: 0.82750s - loss: 0.5080 - accuracy: 0.\n",
      "Epoch 6/10\n",
      "48000/48000 [==============================] - 5s 99us/step - loss: 0.4858 - accuracy: 0.8328\n",
      "Epoch 7/10\n",
      "48000/48000 [==============================] - 5s 97us/step - loss: 0.4690 - accuracy: 0.8370\n",
      "Epoch 8/10\n",
      "48000/48000 [==============================] - 5s 95us/step - loss: 0.4563 - accuracy: 0.8427\n",
      "Epoch 9/10\n",
      "48000/48000 [==============================] - 4s 92us/step - loss: 0.4463 - accuracy: 0.8449 0s\n",
      "Epoch 10/10\n",
      "48000/48000 [==============================] - 5s 102us/step - loss: 0.4364 - accuracy: 0.84900s - loss: 0.4370 \n",
      "12000/12000 [==============================] - 3s 221us/step\n",
      "-------------------------------\n",
      "Accuracy for the Fold 0 is 0.8512499928474426\n",
      "Loss for the Fold 0 is 0.43843886550267536\n",
      "-------------------------------\n",
      "For Fold 1\n",
      "-------------------------------\n",
      "Epoch 1/10\n",
      "48000/48000 [==============================] - 6s 125us/step - loss: 1.0954 - accuracy: 0.6684\n",
      "Epoch 2/10\n",
      "48000/48000 [==============================] - 5s 95us/step - loss: 0.6708 - accuracy: 0.7799\n",
      "Epoch 3/10\n",
      "48000/48000 [==============================] - 5s 95us/step - loss: 0.5827 - accuracy: 0.8065\n",
      "Epoch 4/10\n",
      "48000/48000 [==============================] - 5s 104us/step - loss: 0.5371 - accuracy: 0.8188\n",
      "Epoch 5/10\n",
      "48000/48000 [==============================] - 6s 116us/step - loss: 0.5080 - accuracy: 0.8266\n",
      "Epoch 6/10\n",
      "48000/48000 [==============================] - 5s 106us/step - loss: 0.4871 - accuracy: 0.8332\n",
      "Epoch 7/10\n",
      "48000/48000 [==============================] - 5s 105us/step - loss: 0.4718 - accuracy: 0.8376\n",
      "Epoch 8/10\n",
      "48000/48000 [==============================] - 5s 96us/step - loss: 0.4593 - accuracy: 0.8416\n",
      "Epoch 9/10\n",
      "48000/48000 [==============================] - 5s 102us/step - loss: 0.4495 - accuracy: 0.8446\n",
      "Epoch 10/10\n",
      "48000/48000 [==============================] - 5s 106us/step - loss: 0.4389 - accuracy: 0.8485\n",
      "12000/12000 [==============================] - 3s 226us/step\n",
      "-------------------------------\n",
      "Accuracy for the Fold 1 is 0.8397499918937683\n",
      "Loss for the Fold 1 is 0.4528316346009572\n",
      "-------------------------------\n",
      "For Fold 2\n",
      "-------------------------------\n",
      "Epoch 1/10\n",
      "48000/48000 [==============================] - 6s 119us/step - loss: 1.1169 - accuracy: 0.6610\n",
      "Epoch 2/10\n",
      "48000/48000 [==============================] - 5s 98us/step - loss: 0.6844 - accuracy: 0.7791 0s - loss: 0.6\n",
      "Epoch 3/10\n",
      "48000/48000 [==============================] - 5s 97us/step - loss: 0.5869 - accuracy: 0.8089\n",
      "Epoch 4/10\n",
      "48000/48000 [==============================] - 5s 103us/step - loss: 0.5379 - accuracy: 0.8207\n",
      "Epoch 5/10\n",
      "48000/48000 [==============================] - 5s 106us/step - loss: 0.5066 - accuracy: 0.8292\n",
      "Epoch 6/10\n",
      "48000/48000 [==============================] - 5s 98us/step - loss: 0.4853 - accuracy: 0.8341\n",
      "Epoch 7/10\n",
      "48000/48000 [==============================] - 5s 100us/step - loss: 0.4696 - accuracy: 0.8396\n",
      "Epoch 8/10\n",
      "48000/48000 [==============================] - 5s 101us/step - loss: 0.4576 - accuracy: 0.8425\n",
      "Epoch 9/10\n",
      "48000/48000 [==============================] - 5s 99us/step - loss: 0.4463 - accuracy: 0.8466\n",
      "Epoch 10/10\n",
      "48000/48000 [==============================] - 5s 98us/step - loss: 0.4382 - accuracy: 0.8484\n",
      "12000/12000 [==============================] - 3s 239us/step\n",
      "-------------------------------\n",
      "Accuracy for the Fold 2 is 0.8519166707992554\n",
      "Loss for the Fold 2 is 0.428960071404775\n",
      "-------------------------------\n",
      "For Fold 3\n",
      "-------------------------------\n",
      "Epoch 1/10\n",
      "48000/48000 [==============================] - 5s 110us/step - loss: 1.1578 - accuracy: 0.6357\n",
      "Epoch 2/10\n",
      "48000/48000 [==============================] - 5s 102us/step - loss: 0.6816 - accuracy: 0.7748\n",
      "Epoch 3/10\n",
      "48000/48000 [==============================] - 5s 99us/step - loss: 0.5848 - accuracy: 0.8050\n",
      "Epoch 4/10\n",
      "48000/48000 [==============================] - 5s 101us/step - loss: 0.5370 - accuracy: 0.8197\n",
      "Epoch 5/10\n",
      "48000/48000 [==============================] - 5s 101us/step - loss: 0.5078 - accuracy: 0.8273\n",
      "Epoch 6/10\n",
      "48000/48000 [==============================] - 5s 95us/step - loss: 0.4873 - accuracy: 0.8327\n",
      "Epoch 7/10\n",
      "48000/48000 [==============================] - 5s 96us/step - loss: 0.4717 - accuracy: 0.8367\n",
      "Epoch 8/10\n",
      "48000/48000 [==============================] - 5s 99us/step - loss: 0.4591 - accuracy: 0.8409\n",
      "Epoch 9/10\n",
      "48000/48000 [==============================] - 5s 98us/step - loss: 0.4492 - accuracy: 0.8441\n",
      "Epoch 10/10\n",
      "48000/48000 [==============================] - 5s 97us/step - loss: 0.4400 - accuracy: 0.8466 0s - loss: 0.4405 - \n",
      "12000/12000 [==============================] - 3s 227us/step\n",
      "-------------------------------\n",
      "Accuracy for the Fold 3 is 0.847000002861023\n",
      "Loss for the Fold 3 is 0.443106813232104\n",
      "-------------------------------\n",
      "For Fold 4\n",
      "-------------------------------\n",
      "Epoch 1/10\n",
      "48000/48000 [==============================] - 5s 109us/step - loss: 1.1381 - accuracy: 0.6517\n",
      "Epoch 2/10\n",
      "48000/48000 [==============================] - 5s 94us/step - loss: 0.6829 - accuracy: 0.7745\n",
      "Epoch 3/10\n",
      "48000/48000 [==============================] - 5s 107us/step - loss: 0.5886 - accuracy: 0.80520s - loss: 0.5886 - accuracy: 0.80\n",
      "Epoch 4/10\n",
      "48000/48000 [==============================] - 6s 126us/step - loss: 0.5404 - accuracy: 0.8183\n",
      "Epoch 5/10\n",
      "48000/48000 [==============================] - 6s 124us/step - loss: 0.5096 - accuracy: 0.8267\n",
      "Epoch 6/10\n",
      "48000/48000 [==============================] - 5s 112us/step - loss: 0.4893 - accuracy: 0.8316\n",
      "Epoch 7/10\n",
      "48000/48000 [==============================] - 5s 94us/step - loss: 0.4728 - accuracy: 0.8375\n",
      "Epoch 8/10\n",
      "48000/48000 [==============================] - 5s 99us/step - loss: 0.4604 - accuracy: 0.8428\n",
      "Epoch 9/10\n",
      "48000/48000 [==============================] - 5s 102us/step - loss: 0.4505 - accuracy: 0.84490s - loss: 0.4497 - accuracy: \n",
      "Epoch 10/10\n",
      "48000/48000 [==============================] - 5s 96us/step - loss: 0.4421 - accuracy: 0.8476\n",
      "12000/12000 [==============================] - 3s 218us/step\n",
      "-------------------------------\n",
      "Accuracy for the Fold 4 is 0.8460833430290222\n",
      "Loss for the Fold 4 is 0.4436290881633759\n",
      "-------------------------------\n"
     ]
    },
    {
     "data": {
      "text/plain": [
       "'\\nHere Xtrain is the preprocessed training data\\ny_train is not preprocessed data as we will be performing preprocessing for the y_train data before evaluating the model in the\\nkfold function in the first function.\\n5 is number of folds for cross validation\\n\"SGD\" (Stochastic Gradient Descent) is the optimizer used for the model\\n'"
      ]
     },
     "execution_count": 222,
     "metadata": {},
     "output_type": "execute_result"
    }
   ],
   "source": [
    "(l3,p3)=Kfold(Xtrain,y_train,5,\"SGD\")\n",
    "\"\"\"\n",
    "Here Xtrain is the preprocessed training data\n",
    "y_train is not preprocessed data as we will be performing preprocessing for the y_train data before evaluating the model in the\n",
    "kfold function in the first function.\n",
    "5 is number of folds for cross validation\n",
    "\"SGD\" (Stochastic Gradient Descent) is the optimizer used for the model\n",
    "\"\"\""
   ]
  },
  {
   "cell_type": "code",
   "execution_count": 223,
   "metadata": {},
   "outputs": [
    {
     "name": "stdout",
     "output_type": "stream",
     "text": [
      "FOR SGD Optimizer\n"
     ]
    },
    {
     "data": {
      "text/html": [
       "<div>\n",
       "<style scoped>\n",
       "    .dataframe tbody tr th:only-of-type {\n",
       "        vertical-align: middle;\n",
       "    }\n",
       "\n",
       "    .dataframe tbody tr th {\n",
       "        vertical-align: top;\n",
       "    }\n",
       "\n",
       "    .dataframe thead th {\n",
       "        text-align: right;\n",
       "    }\n",
       "</style>\n",
       "<table border=\"1\" class=\"dataframe\">\n",
       "  <thead>\n",
       "    <tr style=\"text-align: right;\">\n",
       "      <th></th>\n",
       "      <th>Folds</th>\n",
       "      <th>Accuracy</th>\n",
       "      <th>loss</th>\n",
       "    </tr>\n",
       "  </thead>\n",
       "  <tbody>\n",
       "    <tr>\n",
       "      <td>0</td>\n",
       "      <td>Fold 0</td>\n",
       "      <td>0.851250</td>\n",
       "      <td>0.438439</td>\n",
       "    </tr>\n",
       "    <tr>\n",
       "      <td>1</td>\n",
       "      <td>Fold 1</td>\n",
       "      <td>0.839750</td>\n",
       "      <td>0.452832</td>\n",
       "    </tr>\n",
       "    <tr>\n",
       "      <td>2</td>\n",
       "      <td>Fold 2</td>\n",
       "      <td>0.851917</td>\n",
       "      <td>0.428960</td>\n",
       "    </tr>\n",
       "    <tr>\n",
       "      <td>3</td>\n",
       "      <td>Fold 3</td>\n",
       "      <td>0.847000</td>\n",
       "      <td>0.443107</td>\n",
       "    </tr>\n",
       "    <tr>\n",
       "      <td>4</td>\n",
       "      <td>Fold 4</td>\n",
       "      <td>0.846083</td>\n",
       "      <td>0.443629</td>\n",
       "    </tr>\n",
       "    <tr>\n",
       "      <td>5</td>\n",
       "      <td>Avg</td>\n",
       "      <td>0.847200</td>\n",
       "      <td>0.441393</td>\n",
       "    </tr>\n",
       "  </tbody>\n",
       "</table>\n",
       "</div>"
      ],
      "text/plain": [
       "    Folds  Accuracy      loss\n",
       "0  Fold 0  0.851250  0.438439\n",
       "1  Fold 1  0.839750  0.452832\n",
       "2  Fold 2  0.851917  0.428960\n",
       "3  Fold 3  0.847000  0.443107\n",
       "4  Fold 4  0.846083  0.443629\n",
       "5     Avg  0.847200  0.441393"
      ]
     },
     "execution_count": 223,
     "metadata": {},
     "output_type": "execute_result"
    }
   ],
   "source": [
    "lis2=['Fold 0','Fold 1','Fold 2','Fold 3','Fold 4','Avg']\n",
    "l3.append(sum(l3)/5)\n",
    "p3.append(sum(p3)/5)\n",
    "r1=list(zip(lis2,l3,p3))\n",
    "print('FOR SGD Optimizer')\n",
    "data=pd.DataFrame(r1,columns=['Folds','Accuracy','loss'])\n",
    "data"
   ]
  },
  {
   "cell_type": "markdown",
   "metadata": {},
   "source": [
    "<li>Loss function — It is used to measure how accurate our model is during the training.It is used to minimize the weights toto \"steer\" the model in the right direction.\n",
    "<li>Optimizer —It is used to update our weights based on the data it sees and its loss function.\n",
    "<li>Metrics —Used to monitor the training and testing steps. The following example uses accuracy, the fraction of the images that are correctly classified."
   ]
  },
  {
   "cell_type": "markdown",
   "metadata": {},
   "source": [
    "<h5>Why we choose ADAM Optimizer</h5>"
   ]
  },
  {
   "cell_type": "markdown",
   "metadata": {},
   "source": [
    "We used Adam(Adaptive Moment Estimation) optimizer for this model, because Adam optimizer works well in practice and outperforms other Adaptive techniques. Adam can be looked at as a combination of RMSprop and Stochastic Gradient Descent with momentum. ADAM uses the squared gradients to scale the learning rate like RMSprop and it takes advantage of momentum by using moving average of the gradient instead of gradient itself like SGD with momentum. \n",
    "\n",
    "we have ran 5 fold cross validation on training data set using optimizers Adam and SGD. <b>We got more accuracy for ADAM(88%) when compared tp SGD(85%).So Adam is the best optimizer for this Data Set.</b> SGD is a variant of gradient descent. Instead of performing computations on the whole dataset which is redundant and inefficient SGD only computes on a small subset or random selection of data examples. But Adam is an algorithm for gradient-based optimization of stochastic objective functions. Adam is an adaptive learning rate method, which means, it computes individual learning rates for different parameters.For stochastic gradient descent batch size should be 1, so it will take a lot of time to compute. So we opt for ADAM."
   ]
  },
  {
   "cell_type": "markdown",
   "metadata": {},
   "source": [
    "<h5>What other optimizers can we choose</h5>"
   ]
  },
  {
   "cell_type": "markdown",
   "metadata": {},
   "source": [
    "we can choose other optimizers like SGD and RMSprop for the multi-class classification problem"
   ]
  },
  {
   "cell_type": "markdown",
   "metadata": {},
   "source": [
    "<h5>Loss Function</h5>"
   ]
  },
  {
   "cell_type": "markdown",
   "metadata": {},
   "source": [
    "We can dive the loss functions into 3 types based on the type of problems:\n",
    "<li>1) Regression Loss Function \n",
    "<li>2) Binary Classification Loss Function \n",
    "<li>3) Multi-Class Classification Loss Function\n",
    "\n",
    "<br>In regression loss function: \n",
    "<li>i) Mean Squared Error Loss \n",
    "<li>ii) Mean Squared Logarithmic Error Loss \n",
    "<li>iii) Mean Absolute Error Loss\n",
    "\n",
    "<br>For Binary Classification we use Loss Functions like: \n",
    "<li>i) Binary Cross-Entropy \n",
    "<li>ii) Hinge Loss \n",
    "<li>iii) Squared Hinge Loss\n",
    "\n",
    "<br>For Multi-Class Classification we use Loss Functions like: \n",
    "<li>i) Multi-Class Cross-Entropy Loss \n",
    "<li>ii) Sparse Multiclass Cross-Entropy Loss \n",
    "<li>iii) Kullback Leibler Divergence Loss"
   ]
  },
  {
   "cell_type": "markdown",
   "metadata": {},
   "source": [
    "<h5> Why we choose cross-entropy loss function</h5>"
   ]
  },
  {
   "cell_type": "markdown",
   "metadata": {},
   "source": [
    "As our dataset(MNIST fashion) fits for a Multi-class classification problem. So we considered Multi-Class Cross-Entropy Loss. \n",
    "\n",
    "Cross-entropy is the default loss function used in multi-class classification problems. The target values for this loss function are in the set {0, 1, 3, …, n}, where each class is assigned to a unique integer value. The loss function is to be evaluated first and then only changed if we have a good reason. Cross-entropy calculates the score that summarizes the average difference between the actual and predicted probability distributions for all classes in the problem. The score is minimized and a perfect cross-entropy value is 0. Cross-entropy can be specified as the loss function in Keras by specifying ‘categorical_crossentropy‘ when compiling the model.Cross-entropy loss increases as the predicted probability diverges from the actual label and since it is default loss function we used the cross-entopy loss function"
   ]
  },
  {
   "cell_type": "markdown",
   "metadata": {},
   "source": [
    "<h5> What other loss functions can we use </h5>"
   ]
  },
  {
   "cell_type": "markdown",
   "metadata": {},
   "source": [
    "we can use other loss functions like Sparse Multiclass Cross-Entropy Loss and Kullback Leibler Divergence Loss for the multi-classification problem"
   ]
  },
  {
   "cell_type": "markdown",
   "metadata": {},
   "source": [
    "<h2>Question 4</h2>"
   ]
  },
  {
   "cell_type": "markdown",
   "metadata": {},
   "source": [
    "Optimizers like stochastic gradient descent and Adaptive Moment Estimation uses different hyperparameters like epochs and Batch Size. ADAM and stochastic gradient descent are iterative learning algorithms\n",
    "<li>The batch size is a hyperparameter of gradient descent that controls the number of training samples to work through before the model’s internal parameters are updated.\n",
    "<li>The number of epochs is a hyperparameter of gradient descent that controls the number of complete passes through the training dataset.    "
   ]
  },
  {
   "cell_type": "markdown",
   "metadata": {},
   "source": [
    "<h5>How to select the number of epochs<h5>"
   ]
  },
  {
   "cell_type": "markdown",
   "metadata": {},
   "source": [
    "We cannot fix how to select the number of epochs to be used by seeing the dataset. we can fix the number of epochs to be used based on the validation and the training error. For instance, if the validation error starts increasing that might be a indication of overfitting. You should set the number of epochs as high as possible and terminate training based on the error rates.\n"
   ]
  },
  {
   "cell_type": "markdown",
   "metadata": {},
   "source": [
    "<h5>How to select the batch size<h5>"
   ]
  },
  {
   "cell_type": "markdown",
   "metadata": {},
   "source": [
    "Batch size impacts significant learning. The concept is, if our batch size is large, this will provide a enough estimate of gradient of the full dataset. By taking samples from our dataset, we can estimate the gradient while reducing computational cost. We will get less accuracy estimate if we go lower. The noisy gradients actually helps to escape local minima. When noisy gradient is too low, our network weights can just jump around if your data is noisy and it converges very slowly results in negatively impacts total computation time."
   ]
  },
  {
   "cell_type": "code",
   "execution_count": 224,
   "metadata": {},
   "outputs": [
    {
     "name": "stdout",
     "output_type": "stream",
     "text": [
      "Epoch 1/10\n",
      "60000/60000 [==============================] - 7s 120us/step - loss: 0.5147 - accuracy: 0.8202\n",
      "Epoch 2/10\n",
      "60000/60000 [==============================] - 7s 112us/step - loss: 0.3731 - accuracy: 0.8653\n",
      "Epoch 3/10\n",
      "60000/60000 [==============================] - 7s 112us/step - loss: 0.3292 - accuracy: 0.8800\n",
      "Epoch 4/10\n",
      "60000/60000 [==============================] - 6s 107us/step - loss: 0.3086 - accuracy: 0.8863\n",
      "Epoch 5/10\n",
      "60000/60000 [==============================] - 7s 109us/step - loss: 0.2872 - accuracy: 0.8944\n",
      "Epoch 6/10\n",
      "60000/60000 [==============================] - 6s 107us/step - loss: 0.2717 - accuracy: 0.8984\n",
      "Epoch 7/10\n",
      "60000/60000 [==============================] - 7s 115us/step - loss: 0.2607 - accuracy: 0.9031\n",
      "Epoch 8/10\n",
      "60000/60000 [==============================] - 6s 105us/step - loss: 0.2475 - accuracy: 0.9070\n",
      "Epoch 9/10\n",
      "60000/60000 [==============================] - 7s 110us/step - loss: 0.2421 - accuracy: 0.9083\n",
      "Epoch 10/10\n",
      "60000/60000 [==============================] - 6s 107us/step - loss: 0.2310 - accuracy: 0.9137\n"
     ]
    },
    {
     "data": {
      "text/plain": [
       "<keras.callbacks.callbacks.History at 0x1dc3c85b848>"
      ]
     },
     "execution_count": 224,
     "metadata": {},
     "output_type": "execute_result"
    }
   ],
   "source": [
    "model.fit(Xtrain, Y_train, batch_size=128, nb_epoch=10)"
   ]
  },
  {
   "cell_type": "markdown",
   "metadata": {},
   "source": [
    "In our model.fit \n",
    "<li>X_train is the training data\n",
    "<li>Y_train are the training labels\n",
    "<li>we took batch size value of 128,such that we will take 128 samples of training data to work through before the model’s internal parameters are updated. \n",
    "<li>We took the number of epochs as 10,such that we iterate through the training data 10 times to get the performance of our model.    \n",
    "    "
   ]
  },
  {
   "cell_type": "markdown",
   "metadata": {},
   "source": [
    "<h5>performing 5 Fold cross-validation on our training data</h5>"
   ]
  },
  {
   "cell_type": "code",
   "execution_count": 225,
   "metadata": {
    "scrolled": false
   },
   "outputs": [
    {
     "name": "stdout",
     "output_type": "stream",
     "text": [
      "For Fold 0\n",
      "-------------------------------\n",
      "Epoch 1/10\n",
      "48000/48000 [==============================] - 7s 142us/step - loss: 0.5353 - accuracy: 0.8111\n",
      "Epoch 2/10\n",
      "48000/48000 [==============================] - 6s 131us/step - loss: 0.3793 - accuracy: 0.8629\n",
      "Epoch 3/10\n",
      "48000/48000 [==============================] - 6s 124us/step - loss: 0.3420 - accuracy: 0.8749\n",
      "Epoch 4/10\n",
      "48000/48000 [==============================] - 6s 124us/step - loss: 0.3108 - accuracy: 0.8869\n",
      "Epoch 5/10\n",
      "48000/48000 [==============================] - 6s 129us/step - loss: 0.2930 - accuracy: 0.89130s - loss: 0.2923 \n",
      "Epoch 6/10\n",
      "48000/48000 [==============================] - 6s 124us/step - loss: 0.2804 - accuracy: 0.8964\n",
      "Epoch 7/10\n",
      "48000/48000 [==============================] - 7s 139us/step - loss: 0.2674 - accuracy: 0.90001s - loss: 0.2664 - accura - ETA: 0s\n",
      "Epoch 8/10\n",
      "48000/48000 [==============================] - 6s 123us/step - loss: 0.2557 - accuracy: 0.9050\n",
      "Epoch 9/10\n",
      "48000/48000 [==============================] - 6s 123us/step - loss: 0.2437 - accuracy: 0.9080\n",
      "Epoch 10/10\n",
      "48000/48000 [==============================] - 6s 129us/step - loss: 0.2335 - accuracy: 0.9127\n",
      "12000/12000 [==============================] - 3s 226us/step\n",
      "-------------------------------\n",
      "Accuracy for the Fold 0 is 0.8884166479110718\n",
      "Loss for the Fold 0 is 0.3161510165135066\n",
      "-------------------------------\n",
      "For Fold 1\n",
      "-------------------------------\n",
      "Epoch 1/10\n",
      "48000/48000 [==============================] - 9s 179us/step - loss: 0.5389 - accuracy: 0.8119\n",
      "Epoch 2/10\n",
      "48000/48000 [==============================] - 6s 126us/step - loss: 0.3848 - accuracy: 0.8627\n",
      "Epoch 3/10\n",
      "48000/48000 [==============================] - 7s 137us/step - loss: 0.3456 - accuracy: 0.8741\n",
      "Epoch 4/10\n",
      "48000/48000 [==============================] - 7s 142us/step - loss: 0.3183 - accuracy: 0.8846\n",
      "Epoch 5/10\n",
      "48000/48000 [==============================] - 6s 132us/step - loss: 0.2969 - accuracy: 0.8910\n",
      "Epoch 6/10\n",
      "48000/48000 [==============================] - 6s 124us/step - loss: 0.2812 - accuracy: 0.89700s\n",
      "Epoch 7/10\n",
      "48000/48000 [==============================] - 6s 125us/step - loss: 0.2677 - accuracy: 0.9006\n",
      "Epoch 8/10\n",
      "48000/48000 [==============================] - 6s 133us/step - loss: 0.2529 - accuracy: 0.9064\n",
      "Epoch 9/10\n",
      "48000/48000 [==============================] - 6s 125us/step - loss: 0.2457 - accuracy: 0.9085\n",
      "Epoch 10/10\n",
      "48000/48000 [==============================] - 6s 127us/step - loss: 0.2346 - accuracy: 0.91250s - loss: 0.2346 - accuracy: 0.91\n",
      "12000/12000 [==============================] - 3s 218us/step\n",
      "-------------------------------\n",
      "Accuracy for the Fold 1 is 0.8825833201408386\n",
      "Loss for the Fold 1 is 0.3193208811879158\n",
      "-------------------------------\n",
      "For Fold 2\n",
      "-------------------------------\n",
      "Epoch 1/10\n",
      "48000/48000 [==============================] - 7s 150us/step - loss: 0.5430 - accuracy: 0.80990s - los - ETA: 0s - loss: 0.5435 - accuracy: 0.80\n",
      "Epoch 2/10\n",
      "48000/48000 [==============================] - 7s 139us/step - loss: 0.3858 - accuracy: 0.86220s - loss: 0.3877 \n",
      "Epoch 3/10\n",
      "48000/48000 [==============================] - 6s 130us/step - loss: 0.3464 - accuracy: 0.8735\n",
      "Epoch 4/10\n",
      "48000/48000 [==============================] - 6s 132us/step - loss: 0.3129 - accuracy: 0.8850\n",
      "Epoch 5/10\n",
      "48000/48000 [==============================] - 6s 131us/step - loss: 0.2985 - accuracy: 0.8889\n",
      "Epoch 6/10\n",
      "48000/48000 [==============================] - 7s 144us/step - loss: 0.2809 - accuracy: 0.8955\n",
      "Epoch 7/10\n",
      "48000/48000 [==============================] - 6s 133us/step - loss: 0.2672 - accuracy: 0.9011\n",
      "Epoch 8/10\n",
      "48000/48000 [==============================] - 6s 131us/step - loss: 0.2564 - accuracy: 0.9036\n",
      "Epoch 9/10\n",
      "48000/48000 [==============================] - 6s 132us/step - loss: 0.2458 - accuracy: 0.9074\n",
      "Epoch 10/10\n",
      "48000/48000 [==============================] - 6s 127us/step - loss: 0.2323 - accuracy: 0.9128\n",
      "12000/12000 [==============================] - 3s 247us/step\n",
      "-------------------------------\n",
      "Accuracy for the Fold 2 is 0.8886666893959045\n",
      "Loss for the Fold 2 is 0.3186488593816757\n",
      "-------------------------------\n",
      "For Fold 3\n",
      "-------------------------------\n",
      "Epoch 1/10\n",
      "48000/48000 [==============================] - 7s 138us/step - loss: 0.5421 - accuracy: 0.8098\n",
      "Epoch 2/10\n",
      "48000/48000 [==============================] - 6s 131us/step - loss: 0.3854 - accuracy: 0.8616\n",
      "Epoch 3/10\n",
      "48000/48000 [==============================] - 6s 126us/step - loss: 0.3452 - accuracy: 0.8732\n",
      "Epoch 4/10\n",
      "48000/48000 [==============================] - 6s 131us/step - loss: 0.3187 - accuracy: 0.8834\n",
      "Epoch 5/10\n",
      "48000/48000 [==============================] - 6s 124us/step - loss: 0.3023 - accuracy: 0.8884\n",
      "Epoch 6/10\n",
      "48000/48000 [==============================] - 6s 126us/step - loss: 0.2840 - accuracy: 0.89430s - los\n",
      "Epoch 7/10\n",
      "48000/48000 [==============================] - 6s 132us/step - loss: 0.2696 - accuracy: 0.8990\n",
      "Epoch 8/10\n",
      "48000/48000 [==============================] - 6s 124us/step - loss: 0.2573 - accuracy: 0.9028\n",
      "Epoch 9/10\n",
      "48000/48000 [==============================] - 7s 143us/step - loss: 0.2471 - accuracy: 0.9076\n",
      "Epoch 10/10\n",
      "48000/48000 [==============================] - 6s 126us/step - loss: 0.2407 - accuracy: 0.9099\n",
      "12000/12000 [==============================] - 3s 222us/step\n",
      "-------------------------------\n",
      "Accuracy for the Fold 3 is 0.8930833339691162\n",
      "Loss for the Fold 3 is 0.300964307030042\n",
      "-------------------------------\n",
      "For Fold 4\n",
      "-------------------------------\n",
      "Epoch 1/10\n",
      "48000/48000 [==============================] - 7s 147us/step - loss: 0.5406 - accuracy: 0.8095\n",
      "Epoch 2/10\n",
      "48000/48000 [==============================] - 7s 138us/step - loss: 0.3817 - accuracy: 0.8621\n",
      "Epoch 3/10\n",
      "48000/48000 [==============================] - 6s 122us/step - loss: 0.3361 - accuracy: 0.8788\n",
      "Epoch 4/10\n",
      "48000/48000 [==============================] - 6s 124us/step - loss: 0.3123 - accuracy: 0.8851\n",
      "Epoch 5/10\n",
      "48000/48000 [==============================] - 6s 126us/step - loss: 0.2908 - accuracy: 0.8934\n",
      "Epoch 6/10\n",
      "48000/48000 [==============================] - 6s 120us/step - loss: 0.2740 - accuracy: 0.8991\n",
      "Epoch 7/10\n",
      "48000/48000 [==============================] - 6s 120us/step - loss: 0.2608 - accuracy: 0.9044\n",
      "Epoch 8/10\n",
      "48000/48000 [==============================] - 6s 126us/step - loss: 0.2478 - accuracy: 0.90750s - loss: 0.2481 - \n",
      "Epoch 9/10\n",
      "48000/48000 [==============================] - 6s 120us/step - loss: 0.2426 - accuracy: 0.9083\n",
      "Epoch 10/10\n",
      "48000/48000 [==============================] - 6s 125us/step - loss: 0.2309 - accuracy: 0.9136\n",
      "12000/12000 [==============================] - 3s 215us/step\n",
      "-------------------------------\n",
      "Accuracy for the Fold 4 is 0.8916666507720947\n",
      "Loss for the Fold 4 is 0.3021725685497125\n",
      "-------------------------------\n"
     ]
    },
    {
     "data": {
      "text/plain": [
       "'\\nHere Xtrain is the preprocessed training data\\ny_train is not preprocessed data as we will be performing preprocessing for the y_train data before evaluating the model in the\\nkfold function in the first function.\\n5 is number of folds\\nADAM is the optimizer used in the model\\n'"
      ]
     },
     "execution_count": 225,
     "metadata": {},
     "output_type": "execute_result"
    }
   ],
   "source": [
    "(l4,p4)=Kfold(Xtrain,y_train,5,\"ADAM\")# K Fold cross function is defined in the 1st question\n",
    "\"\"\"\n",
    "Here Xtrain is the preprocessed training data\n",
    "y_train is not preprocessed data as we will be performing preprocessing for the y_train data before evaluating the model in the\n",
    "kfold function in the first function.\n",
    "5 is number of folds\n",
    "ADAM is the optimizer used in the model\n",
    "\"\"\""
   ]
  },
  {
   "cell_type": "markdown",
   "metadata": {},
   "source": [
    "<h5> Accuracy and loss for each fold </h5>"
   ]
  },
  {
   "cell_type": "code",
   "execution_count": 226,
   "metadata": {},
   "outputs": [
    {
     "data": {
      "text/html": [
       "<div>\n",
       "<style scoped>\n",
       "    .dataframe tbody tr th:only-of-type {\n",
       "        vertical-align: middle;\n",
       "    }\n",
       "\n",
       "    .dataframe tbody tr th {\n",
       "        vertical-align: top;\n",
       "    }\n",
       "\n",
       "    .dataframe thead th {\n",
       "        text-align: right;\n",
       "    }\n",
       "</style>\n",
       "<table border=\"1\" class=\"dataframe\">\n",
       "  <thead>\n",
       "    <tr style=\"text-align: right;\">\n",
       "      <th></th>\n",
       "      <th>Folds</th>\n",
       "      <th>Accuracy</th>\n",
       "      <th>loss</th>\n",
       "    </tr>\n",
       "  </thead>\n",
       "  <tbody>\n",
       "    <tr>\n",
       "      <td>0</td>\n",
       "      <td>Fold 0</td>\n",
       "      <td>0.888417</td>\n",
       "      <td>0.316151</td>\n",
       "    </tr>\n",
       "    <tr>\n",
       "      <td>1</td>\n",
       "      <td>Fold 1</td>\n",
       "      <td>0.882583</td>\n",
       "      <td>0.319321</td>\n",
       "    </tr>\n",
       "    <tr>\n",
       "      <td>2</td>\n",
       "      <td>Fold 2</td>\n",
       "      <td>0.888667</td>\n",
       "      <td>0.318649</td>\n",
       "    </tr>\n",
       "    <tr>\n",
       "      <td>3</td>\n",
       "      <td>Fold 3</td>\n",
       "      <td>0.893083</td>\n",
       "      <td>0.300964</td>\n",
       "    </tr>\n",
       "    <tr>\n",
       "      <td>4</td>\n",
       "      <td>Fold 4</td>\n",
       "      <td>0.891667</td>\n",
       "      <td>0.302173</td>\n",
       "    </tr>\n",
       "    <tr>\n",
       "      <td>5</td>\n",
       "      <td>Avg</td>\n",
       "      <td>0.888883</td>\n",
       "      <td>0.311452</td>\n",
       "    </tr>\n",
       "  </tbody>\n",
       "</table>\n",
       "</div>"
      ],
      "text/plain": [
       "    Folds  Accuracy      loss\n",
       "0  Fold 0  0.888417  0.316151\n",
       "1  Fold 1  0.882583  0.319321\n",
       "2  Fold 2  0.888667  0.318649\n",
       "3  Fold 3  0.893083  0.300964\n",
       "4  Fold 4  0.891667  0.302173\n",
       "5     Avg  0.888883  0.311452"
      ]
     },
     "execution_count": 226,
     "metadata": {},
     "output_type": "execute_result"
    }
   ],
   "source": [
    "lis4=['Fold 0','Fold 1','Fold 2','Fold 3','Fold 4','Avg']\n",
    "l4.append(sum(l4)/5)\n",
    "p4.append(sum(p4)/5)\n",
    "r4=list(zip(lis4,l4,p4))\n",
    "data=pd.DataFrame(r4,columns=['Folds','Accuracy','loss'])\n",
    "data"
   ]
  },
  {
   "cell_type": "markdown",
   "metadata": {},
   "source": [
    "After performing 5 fold cross validation on the Training Data we have obtained Training accuracy of 88%."
   ]
  },
  {
   "cell_type": "markdown",
   "metadata": {},
   "source": [
    "<h2>Question 5</h2>"
   ]
  },
  {
   "cell_type": "markdown",
   "metadata": {},
   "source": [
    "<h5>Evaluation on the testing data</h5>"
   ]
  },
  {
   "cell_type": "markdown",
   "metadata": {},
   "source": [
    "<b>After performing model tuning for different optimizers using 5 fold cross validation. we have chosen ADAM optimizer is best suited for this dataset</b>"
   ]
  },
  {
   "cell_type": "code",
   "execution_count": 227,
   "metadata": {},
   "outputs": [
    {
     "name": "stdout",
     "output_type": "stream",
     "text": [
      "Epoch 1/10\n",
      "60000/60000 [==============================] - 7s 117us/step - loss: 0.5138 - accuracy: 0.8194\n",
      "Epoch 2/10\n",
      "60000/60000 [==============================] - 6s 101us/step - loss: 0.3696 - accuracy: 0.8671\n",
      "Epoch 3/10\n",
      "60000/60000 [==============================] - 6s 100us/step - loss: 0.3288 - accuracy: 0.8799\n",
      "Epoch 4/10\n",
      "60000/60000 [==============================] - 6s 107us/step - loss: 0.3082 - accuracy: 0.8873\n",
      "Epoch 5/10\n",
      "60000/60000 [==============================] - 6s 101us/step - loss: 0.2868 - accuracy: 0.8946\n",
      "Epoch 6/10\n",
      "60000/60000 [==============================] - 6s 108us/step - loss: 0.2741 - accuracy: 0.8984\n",
      "Epoch 7/10\n",
      "60000/60000 [==============================] - 6s 101us/step - loss: 0.2618 - accuracy: 0.9032\n",
      "Epoch 8/10\n",
      "60000/60000 [==============================] - 6s 104us/step - loss: 0.2486 - accuracy: 0.9070\n",
      "Epoch 9/10\n",
      "60000/60000 [==============================] - 6s 108us/step - loss: 0.2392 - accuracy: 0.9103\n",
      "Epoch 10/10\n",
      "60000/60000 [==============================] - 6s 101us/step - loss: 0.2316 - accuracy: 0.9133\n",
      "10000/10000 [==============================] - 2s 225us/step\n"
     ]
    },
    {
     "data": {
      "text/plain": [
       "'\\nFunction modeln takes Xtrain,Xtest(preprocessed testing and training data) and Y_Train,Y_test(preprocessed testing and \\ntraining data mentioned in the 1st question)\\n\\nThis function is used in the KFOLD function defined in the 1st question\\n\\nHere l1 is the accuracy on the testing data\\nli is the loss in testing data\\npred1 is the predicted labels of the testing data\\n\"ADAM\" optimizer used in our model\\n\\n'"
      ]
     },
     "execution_count": 227,
     "metadata": {},
     "output_type": "execute_result"
    }
   ],
   "source": [
    "(l1,a1,pred1)=modeln(Xtrain,Y_train,Xtest,Y_test,\"ADAM\")\n",
    "\"\"\"\n",
    "Function modeln takes Xtrain,Xtest(preprocessed testing and training data) and Y_Train,Y_test(preprocessed testing and \n",
    "training data mentioned in the 1st question)\n",
    "\n",
    "This function is used in the KFOLD function defined in the 1st question\n",
    "\n",
    "Here l1 is the accuracy on the testing data\n",
    "li is the loss in testing data\n",
    "pred1 is the predicted labels of the testing data\n",
    "\"ADAM\" optimizer used in our model\n",
    "\n",
    "\"\"\""
   ]
  },
  {
   "cell_type": "markdown",
   "metadata": {},
   "source": [
    "<h5> Accuracy </h5>\n",
    "An accuracy metric is used to measure the algorithm’s performance in an interpretable way. Accuracy of a model is usually determined after the model parameters and is calculated in the form of a percentage. It is the measure of how accurate your model's prediction is compared to the true data.\n",
    "<li> Ex: If we have 100 test samples and the model only classifies 90 of them correctly then the model's accuracy is 90%. </li>"
   ]
  },
  {
   "cell_type": "code",
   "execution_count": 228,
   "metadata": {},
   "outputs": [
    {
     "name": "stdout",
     "output_type": "stream",
     "text": [
      "Testing Data Accuracy is 0.8805000185966492\n"
     ]
    }
   ],
   "source": [
    "print(\"Testing Data Accuracy is {0}\".format(l1))"
   ]
  },
  {
   "cell_type": "markdown",
   "metadata": {},
   "source": [
    "<h5>Classification Report</h5>"
   ]
  },
  {
   "cell_type": "markdown",
   "metadata": {},
   "source": [
    "<h5>F1 Scores</h5>\n",
    "It is the harmonic mean of precision and recall. This takes the contribution of both, so higher the F1 score, the better. See that due to the product in the numerator if one goes low, the final F1 score goes down significantly. So a model does well in F1 score if the positive predicted are actually positives (precision) and doesn't miss out on positives and predicts them negative (recall).\n",
    "\n",
    "<h5> Precision </h5>\n",
    "Percentage of positive instances out of the total predicted positive instances. Here denominator is the model prediction done as positive from the whole given dataset. Take it as to find out ‘how much the model is right when it says it is right’.\n",
    "Precision = True Positive/(True Positive + False Positive).\n",
    "\n",
    "<h5> Recall </h5>\n",
    "Percentage of positive instances out of the total actual positive instances. Therefore denominator (TP + FN) here is the actual number of positive instances present in the dataset. Take it as to find out ‘how much extra right ones, the model missed when it showed the right ones’.\n",
    "Recall = True Positive/(True Positive + False Negative).\n",
    "\n",
    "<h5> Support </h5>\n",
    "The scores corresponding to every class will tell you the accuracy of the classifier in classifying the data points in that particular class compared to all other classes. The support is the number of samples of the true response that lie in that class."
   ]
  },
  {
   "cell_type": "code",
   "execution_count": 229,
   "metadata": {},
   "outputs": [
    {
     "name": "stdout",
     "output_type": "stream",
     "text": [
      "              precision    recall  f1-score   support\n",
      "\n",
      "           0       0.81      0.86      0.83      1000\n",
      "           1       0.97      0.98      0.97      1000\n",
      "           2       0.73      0.87      0.79      1000\n",
      "           3       0.90      0.89      0.89      1000\n",
      "           4       0.84      0.73      0.78      1000\n",
      "           5       0.95      0.97      0.96      1000\n",
      "           6       0.73      0.66      0.69      1000\n",
      "           7       0.96      0.93      0.94      1000\n",
      "           8       0.99      0.95      0.97      1000\n",
      "           9       0.95      0.96      0.95      1000\n",
      "\n",
      "    accuracy                           0.88     10000\n",
      "   macro avg       0.88      0.88      0.88     10000\n",
      "weighted avg       0.88      0.88      0.88     10000\n",
      "\n"
     ]
    }
   ],
   "source": [
    "from sklearn.metrics import classification_report\n",
    "print(classification_report(y_test, pred1))"
   ]
  },
  {
   "cell_type": "markdown",
   "metadata": {},
   "source": [
    "<h5>AUC SCORE</h5>"
   ]
  },
  {
   "cell_type": "markdown",
   "metadata": {},
   "source": [
    "AUC score is used in classification analysis in order to determine which of the used models predicts the classes best.The AUC can be computed by adjusting the values in the matrix so that cells where the positive case outranks the negative case receive a 1 , cells where the negative case has higher rank receive a 0 , and cells with ties get 0.5"
   ]
  },
  {
   "cell_type": "code",
   "execution_count": 230,
   "metadata": {},
   "outputs": [
    {
     "name": "stdout",
     "output_type": "stream",
     "text": [
      "AUC Score for the testing data is 0.9336111111111112\n"
     ]
    }
   ],
   "source": [
    "from sklearn.metrics import roc_auc_score, auc\n",
    "from sklearn.preprocessing import LabelBinarizer\n",
    "#roc_auc_score(y_test,pred1,average='weighted')\n",
    "lb = LabelBinarizer()\n",
    "lb.fit(y_test)\n",
    "y_test1 = lb.transform(y_test)\n",
    "y_pred1 = lb.transform(pred1)\n",
    "print(\"AUC Score for the testing data is {0}\".format(roc_auc_score(y_test1, y_pred1, average='weighted')))"
   ]
  },
  {
   "cell_type": "markdown",
   "metadata": {},
   "source": [
    "<h5>Confusion Matrix</h5>"
   ]
  },
  {
   "cell_type": "markdown",
   "metadata": {},
   "source": [
    "A confusion matrix is a table that is often used to describe the performance of a classification model (or “classifier”) on a set of test data for which the true values are known"
   ]
  },
  {
   "cell_type": "code",
   "execution_count": 231,
   "metadata": {},
   "outputs": [
    {
     "data": {
      "text/plain": [
       "array([[862,   2,  18,  16,   1,   0, 159,   0,   7,   0],\n",
       "       [  8, 979,   1,  19,   0,   0,   3,   0,   0,   0],\n",
       "       [ 28,   1, 867,  18, 166,   0,  99,   0,   8,   0],\n",
       "       [ 25,  12,   8, 892,  26,   0,  29,   0,   2,   0],\n",
       "       [  5,   4,  44,  34, 729,   0,  48,   0,   8,   0],\n",
       "       [  2,   0,   0,   0,   0, 975,   0,  31,   4,   9],\n",
       "       [ 66,   2,  62,  18,  78,   0, 656,   0,  14,   1],\n",
       "       [  0,   0,   0,   0,   0,   8,   0, 934,   3,  33],\n",
       "       [  4,   0,   0,   3,   0,   0,   6,   0, 954,   0],\n",
       "       [  0,   0,   0,   0,   0,  17,   0,  35,   0, 957]], dtype=int64)"
      ]
     },
     "execution_count": 231,
     "metadata": {},
     "output_type": "execute_result"
    }
   ],
   "source": [
    "# X-axis Predicted vs Y-axis Actual Values\n",
    "from sklearn.metrics import confusion_matrix\n",
    "confusion_matrix(pred1, y_test)"
   ]
  },
  {
   "cell_type": "markdown",
   "metadata": {},
   "source": [
    "we can say from the confusion matrix that label 0 is fasely predicted as label 6 for about 161 times in our testing data"
   ]
  },
  {
   "cell_type": "code",
   "execution_count": 232,
   "metadata": {},
   "outputs": [],
   "source": [
    "def TestErrorDigits(pred,y_test):#This Function Will return a data frame containing testing error for each and every digit\n",
    "    rray=[0,0,0,0,0,0,0,0,0,0]\n",
    "    for i in range(len(y_test)):\n",
    "        if(pred[i]!=y_test[i]):#checking whether our predicted output and given label are same or not\n",
    "            rray[y_test[i]]=rray[y_test[i]]+1\n",
    "    err=[]\n",
    "    accu=[]\n",
    "    (unique, counts) = np.unique(y_test, return_counts=True)#This will give us the output how many times digits are present in the ytest \n",
    "    #print(len(rray))\n",
    "    for i in range(len(rray)):\n",
    "        err.append((rray[i]/counts[i])*100)\n",
    "        accu.append(100-((rray[i]/counts[i])*100))\n",
    "    d={'Label':[0,1,2,3,4,5,6,7,8,9],'Testing Error%':err,'Accuracy%':accu}\n",
    "    df=pd.DataFrame(d)\n",
    "    return df "
   ]
  },
  {
   "cell_type": "code",
   "execution_count": 233,
   "metadata": {},
   "outputs": [
    {
     "name": "stdout",
     "output_type": "stream",
     "text": [
      "Table for testing errors of each and every digit in the fashion_mnist dataset\n"
     ]
    },
    {
     "data": {
      "text/html": [
       "<div>\n",
       "<style scoped>\n",
       "    .dataframe tbody tr th:only-of-type {\n",
       "        vertical-align: middle;\n",
       "    }\n",
       "\n",
       "    .dataframe tbody tr th {\n",
       "        vertical-align: top;\n",
       "    }\n",
       "\n",
       "    .dataframe thead th {\n",
       "        text-align: right;\n",
       "    }\n",
       "</style>\n",
       "<table border=\"1\" class=\"dataframe\">\n",
       "  <thead>\n",
       "    <tr style=\"text-align: right;\">\n",
       "      <th></th>\n",
       "      <th>Label</th>\n",
       "      <th>Testing Error%</th>\n",
       "      <th>Accuracy%</th>\n",
       "    </tr>\n",
       "  </thead>\n",
       "  <tbody>\n",
       "    <tr>\n",
       "      <td>0</td>\n",
       "      <td>0</td>\n",
       "      <td>13.8</td>\n",
       "      <td>86.2</td>\n",
       "    </tr>\n",
       "    <tr>\n",
       "      <td>1</td>\n",
       "      <td>1</td>\n",
       "      <td>2.1</td>\n",
       "      <td>97.9</td>\n",
       "    </tr>\n",
       "    <tr>\n",
       "      <td>2</td>\n",
       "      <td>2</td>\n",
       "      <td>13.3</td>\n",
       "      <td>86.7</td>\n",
       "    </tr>\n",
       "    <tr>\n",
       "      <td>3</td>\n",
       "      <td>3</td>\n",
       "      <td>10.8</td>\n",
       "      <td>89.2</td>\n",
       "    </tr>\n",
       "    <tr>\n",
       "      <td>4</td>\n",
       "      <td>4</td>\n",
       "      <td>27.1</td>\n",
       "      <td>72.9</td>\n",
       "    </tr>\n",
       "    <tr>\n",
       "      <td>5</td>\n",
       "      <td>5</td>\n",
       "      <td>2.5</td>\n",
       "      <td>97.5</td>\n",
       "    </tr>\n",
       "    <tr>\n",
       "      <td>6</td>\n",
       "      <td>6</td>\n",
       "      <td>34.4</td>\n",
       "      <td>65.6</td>\n",
       "    </tr>\n",
       "    <tr>\n",
       "      <td>7</td>\n",
       "      <td>7</td>\n",
       "      <td>6.6</td>\n",
       "      <td>93.4</td>\n",
       "    </tr>\n",
       "    <tr>\n",
       "      <td>8</td>\n",
       "      <td>8</td>\n",
       "      <td>4.6</td>\n",
       "      <td>95.4</td>\n",
       "    </tr>\n",
       "    <tr>\n",
       "      <td>9</td>\n",
       "      <td>9</td>\n",
       "      <td>4.3</td>\n",
       "      <td>95.7</td>\n",
       "    </tr>\n",
       "  </tbody>\n",
       "</table>\n",
       "</div>"
      ],
      "text/plain": [
       "   Label  Testing Error%  Accuracy%\n",
       "0      0            13.8       86.2\n",
       "1      1             2.1       97.9\n",
       "2      2            13.3       86.7\n",
       "3      3            10.8       89.2\n",
       "4      4            27.1       72.9\n",
       "5      5             2.5       97.5\n",
       "6      6            34.4       65.6\n",
       "7      7             6.6       93.4\n",
       "8      8             4.6       95.4\n",
       "9      9             4.3       95.7"
      ]
     },
     "execution_count": 233,
     "metadata": {},
     "output_type": "execute_result"
    }
   ],
   "source": [
    "table=TestErrorDigits(pred1,y_test)\n",
    "print(\"Table for testing errors of each and every digit in the fashion_mnist dataset\")\n",
    "table"
   ]
  },
  {
   "cell_type": "markdown",
   "metadata": {},
   "source": [
    "we can say from the above dataframe that label 6 has the least accuracy when compared to others."
   ]
  },
  {
   "cell_type": "markdown",
   "metadata": {},
   "source": [
    "<b>We have perfomed model tuning for different optimizers using 5-fold cross validation in the question 3. we have selected the optimizer with the best average accuracy(average of accuracies of all the 5 folds). so by using cross validation we can tune several model parameters in the same way like we did for selecting the best optimizer among ADAM and SGD.<b>"
   ]
  },
  {
   "cell_type": "code",
   "execution_count": null,
   "metadata": {},
   "outputs": [],
   "source": []
  }
 ],
 "metadata": {
  "kernelspec": {
   "display_name": "Python 3",
   "language": "python",
   "name": "python3"
  },
  "language_info": {
   "codemirror_mode": {
    "name": "ipython",
    "version": 3
   },
   "file_extension": ".py",
   "mimetype": "text/x-python",
   "name": "python",
   "nbconvert_exporter": "python",
   "pygments_lexer": "ipython3",
   "version": "3.7.4"
  }
 },
 "nbformat": 4,
 "nbformat_minor": 2
}
